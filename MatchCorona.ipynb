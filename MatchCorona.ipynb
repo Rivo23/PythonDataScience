{
 "cells": [
  {
   "cell_type": "code",
   "execution_count": null,
   "metadata": {},
   "outputs": [],
   "source": [
    "import random\n",
    "\n",
    "CORONA_TEAM = ['España','Francia','Italia','Portugal']\n",
    "HALCONES_TEAM = ['Holanda','Alemania','Austria','Finlandia']\n",
    "\n",
    "i = random.randint(1,4)\n",
    "j = random.randint(1,4)\n",
    "l = len(CORONA_TEAM)\n",
    "RONDA_1 = [[CORONA_TEAM[(i+k)%l],HALCONES_TEAM[(j+k)%l]] for k in range(4) ]\n",
    "RESULTADOS = []\n",
    "winner=0\n",
    "for i in srange(2*len(RONDA_1)-1):\n",
    "    if (i%2):\n",
    "        goles1 = random.randint(1,4)\n",
    "        goles2 = random.randint(1,4)\n",
    "        if(goles1==goles2):\n",
    "            winner = random.randint(1,2)\n",
    "            if(winner == 1):\n",
    "                penal1 = random.randint(1,5)\n",
    "                penal2 = penal1 - random.randint(1,penal1)\n",
    "            else:\n",
    "                penal2 = random.randint(1,5)\n",
    "                penal1 = penal2 - random.randint(1,penal2)\n",
    "            RESULTADOS.append([RONDA_1[(i-1)/2][0]+': '+goles1+'('penal1+')', RONDA_1[(i-1)/2][1]+': '+goles2]+'('penal2+')')\n",
    "        else:\n",
    "            RESULTADOS.append([RONDA_1[(i-1)/2][0]+': '+goles1, RONDA_1[(i-1)/2][1]+': '+goles2])\n",
    "    else:\n",
    "        RESULTADOS.append([])\n",
    "        \n",
    "print (RONDA_1)"
   ]
  }
 ],
 "metadata": {
  "kernelspec": {
   "display_name": "Python 3",
   "language": "python",
   "name": "python3"
  },
  "language_info": {
   "codemirror_mode": {
    "name": "ipython",
    "version": 3
   },
   "file_extension": ".py",
   "mimetype": "text/x-python",
   "name": "python",
   "nbconvert_exporter": "python",
   "pygments_lexer": "ipython3",
   "version": "3.6.10"
  }
 },
 "nbformat": 4,
 "nbformat_minor": 4
}
